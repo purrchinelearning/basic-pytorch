{
 "cells": [
  {
   "cell_type": "code",
   "execution_count": 15,
   "id": "d3590d0c",
   "metadata": {},
   "outputs": [
    {
     "name": "stdout",
     "output_type": "stream",
     "text": [
      "Epoch    0/1000 loss: 1.148980\n",
      "Epoch  100/1000 loss: 0.061950\n",
      "Epoch  200/1000 loss: 0.051860\n",
      "Epoch  300/1000 loss: 0.050612\n",
      "Epoch  400/1000 loss: 0.048469\n",
      "Epoch  500/1000 loss: 0.170972\n",
      "Epoch  600/1000 loss: 0.042345\n",
      "Epoch  700/1000 loss: 0.050885\n",
      "Epoch  800/1000 loss: 0.033196\n",
      "Epoch  900/1000 loss: 0.060994\n",
      "Epoch 1000/1000 loss: 0.041424\n"
     ]
    }
   ],
   "source": [
    "import numpy as np\n",
    "import matplotlib.pyplot as plt\n",
    "import random\n",
    "import torch\n",
    "import torch.nn as nn\n",
    "import torch.nn.functional as F\n",
    "import torch.optim as optim\n",
    "import torchvision.datasets as dsets\n",
    "import torchvision.transforms as transforms\n",
    "from torch.utils.data import TensorDataset\n",
    "from torch.utils.data import DataLoader\n",
    "USE_CUDA = torch.cuda.is_available()\n",
    "device = torch.device(\"cuda\" if USE_CUDA else \"cpu\")\n",
    "random.seed(777)\n",
    "torch.manual_seed(777)\n",
    "if device == 'cuda':\n",
    "    torch.cuda.manual_seed_all(777)\n",
    "# ====================================================================================\n",
    "from sklearn.datasets import load_iris\n",
    "from sklearn.model_selection import train_test_split\n",
    "iris_dataset = load_iris()\n",
    "X_train, X_test, y_train, y_test = train_test_split(iris_dataset.data,iris_dataset.target,\n",
    "                                                   test_size=1/3,stratify=iris_dataset.target,\n",
    "                                                   random_state=0)\n",
    "X_train = torch.FloatTensor(X_train)\n",
    "y_train = torch.LongTensor(y_train)\n",
    "X_test = torch.FloatTensor(X_test)\n",
    "y_test = torch.LongTensor(y_test)\n",
    "# y_train one-hot incoding\n",
    "y_one_hot = torch.zeros(100,3)\n",
    "y_one_hot.scatter_(1,y_train.unsqueeze(1),1)\n",
    "y_one_hot_test = torch.zeros(50,3)\n",
    "y_one_hot_test.scatter_(1,y_test.unsqueeze(1),1)\n",
    "# modeling\n",
    "model = nn.Sequential().to(device)\n",
    "model.add_module('fc1',nn.Linear(4,100)) # input layer\n",
    "model.add_module('relu1',nn.ReLU())\n",
    "model.add_module('fc2',nn.Linear(100,100)) # hidden layer1\n",
    "model.add_module('relu2',nn.ReLU())\n",
    "model.add_module('fc3',nn.Linear(100,100))\n",
    "model.add_module('relu3',nn.ReLU())\n",
    "model.add_module('fc4',nn.Linear(100,3))\n",
    "\n",
    "loss_fn = nn.CrossEntropyLoss()\n",
    "optimizer = optim.Adam(model.parameters(),lr=0.01)\n",
    "\n",
    "nb_epochs = 1000\n",
    "for epoch in range(nb_epochs+1):\n",
    "    \n",
    "    prediction = model(X_train)\n",
    "    loss = loss_fn(prediction,y_train)\n",
    "    \n",
    "    optimizer.zero_grad()\n",
    "    loss.backward()\n",
    "    optimizer.step()\n",
    "\n",
    "    if epoch % 100 == 0:\n",
    "        print('Epoch {:4d}/{} loss: {:.6f}'.format(\n",
    "            epoch, nb_epochs, loss.item()\n",
    "        ))"
   ]
  },
  {
   "cell_type": "code",
   "execution_count": 16,
   "id": "efb537c5",
   "metadata": {},
   "outputs": [
    {
     "name": "stdout",
     "output_type": "stream",
     "text": [
      "Accuracy: 0.9599999785423279\n"
     ]
    }
   ],
   "source": [
    "#model testing\n",
    "with torch.no_grad():\n",
    "    prediction = model(X_test)\n",
    "    correct_prediction = torch.argmax(prediction, 1) == y_test\n",
    "    accuracy = correct_prediction.float().mean()\n",
    "    print('Accuracy:', accuracy.item())\n"
   ]
  },
  {
   "cell_type": "code",
   "execution_count": null,
   "id": "cef7b1aa",
   "metadata": {},
   "outputs": [],
   "source": []
  }
 ],
 "metadata": {
  "kernelspec": {
   "display_name": "Python 3 (ipykernel)",
   "language": "python",
   "name": "python3"
  },
  "language_info": {
   "codemirror_mode": {
    "name": "ipython",
    "version": 3
   },
   "file_extension": ".py",
   "mimetype": "text/x-python",
   "name": "python",
   "nbconvert_exporter": "python",
   "pygments_lexer": "ipython3",
   "version": "3.9.7"
  }
 },
 "nbformat": 4,
 "nbformat_minor": 5
}
