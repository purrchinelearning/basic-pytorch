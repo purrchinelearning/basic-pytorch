{
  "nbformat": 4,
  "nbformat_minor": 0,
  "metadata": {
    "colab": {
      "name": "Yolov1.ipynb",
      "provenance": [],
      "authorship_tag": "ABX9TyP1c6XNMSMIa6NrQsVMyubS",
      "include_colab_link": true
    },
    "kernelspec": {
      "name": "python3",
      "display_name": "Python 3"
    },
    "language_info": {
      "name": "python"
    },
    "accelerator": "GPU"
  },
  "cells": [
    {
      "cell_type": "markdown",
      "metadata": {
        "id": "view-in-github",
        "colab_type": "text"
      },
      "source": [
        "<a href=\"https://colab.research.google.com/github/purrchinelearning/basic-pytorch/blob/main/Yolov1.ipynb\" target=\"_parent\"><img src=\"https://colab.research.google.com/assets/colab-badge.svg\" alt=\"Open In Colab\"/></a>"
      ]
    },
    {
      "cell_type": "code",
      "metadata": {
        "colab": {
          "base_uri": "https://localhost:8080/"
        },
        "id": "N1PWxPNPE3Se",
        "outputId": "fc18d5a3-8ca9-4c02-a8f8-f3477ca4a547"
      },
      "source": [
        "from google.colab import drive\n",
        "drive.mount('/content/drive')"
      ],
      "execution_count": 1,
      "outputs": [
        {
          "output_type": "stream",
          "name": "stdout",
          "text": [
            "Mounted at /content/drive\n"
          ]
        }
      ]
    },
    {
      "cell_type": "code",
      "metadata": {
        "colab": {
          "base_uri": "https://localhost:8080/"
        },
        "id": "JJYOrKD3GCQN",
        "outputId": "87849fb3-70f3-4d1c-c54f-2346e25d8d5c"
      },
      "source": [
        "import sys\n",
        "print(sys.version)"
      ],
      "execution_count": 3,
      "outputs": [
        {
          "output_type": "stream",
          "name": "stdout",
          "text": [
            "3.7.12 (default, Sep 10 2021, 00:21:48) \n",
            "[GCC 7.5.0]\n"
          ]
        }
      ]
    },
    {
      "cell_type": "code",
      "metadata": {
        "colab": {
          "base_uri": "https://localhost:8080/"
        },
        "id": "S8iH8yqDci_z",
        "outputId": "2614bbe8-63b1-4d9c-a0a6-c311c0c27d19"
      },
      "source": [
        "import torch\n",
        "print(\"Torch version:{}\".format(torch.__version__))\n",
        "print(\"cuda version: {}\".format(torch.version.cuda))\n",
        "print(\"cudnn version:{}\".format(torch.backends.cudnn.version()))"
      ],
      "execution_count": 4,
      "outputs": [
        {
          "output_type": "stream",
          "name": "stdout",
          "text": [
            "Torch version:1.9.0+cu111\n",
            "cuda version: 11.1\n",
            "cudnn version:8005\n"
          ]
        }
      ]
    },
    {
      "cell_type": "code",
      "metadata": {
        "id": "gR36TgdXcqPx"
      },
      "source": [
        "import numpy as np\n",
        "import matplotlib.pyplot as plt\n",
        "import pandas as pd\n",
        "import torch\n",
        "import torch.nn as nn\n",
        "import torch.nn.functional as F\n",
        "import torch.optim as optim\n",
        "import torchvision\n",
        "from torchsummary import summary\n",
        "from torchvision import transforms,datasets\n",
        "from torch.utils.data import TensorDataset, DataLoader, Dataset\n",
        "import cv2\n",
        "from PIL import Image\n",
        "device = torch.device(\"cuda\" if torch.cuda.is_available() else \"cpu\")"
      ],
      "execution_count": 5,
      "outputs": []
    },
    {
      "cell_type": "code",
      "metadata": {
        "id": "QSKX7phdlQBk"
      },
      "source": [
        "A_C = [\n",
        "  (7,64,2,3), \"M\",\n",
        "  (3,192,1,1), \"M\",\n",
        "  (1,128,1,0), (3,256,1,1),(1,256,1,0),(3,512,1,1),\"M\",\n",
        "  [(1,256,1,0),(3,512,1,1),4],(1,512,1,0),(3,1024,1,1),\"M\",\n",
        "  [(1,512,1,0),(3,1024,1,1),2],(3,1024,1,1),(3,1024,2,1),\n",
        "  (3,1024,1,1),(3,1024,1,1)\n",
        "]"
      ],
      "execution_count": 12,
      "outputs": []
    },
    {
      "cell_type": "code",
      "metadata": {
        "colab": {
          "base_uri": "https://localhost:8080/"
        },
        "id": "j3a7Yuw7t_5c",
        "outputId": "46da3849-d29c-4e45-fbc0-1e8e84df4138"
      },
      "source": [
        "class ConvBlock(nn.Module):\n",
        "  def __init__(self,in_ch,out_ch,k,s,p):\n",
        "    super(ConvBlock,self).__init__()\n",
        "    self.conv = nn.Conv2d(in_ch,out_ch,k,s,p,bias=False)\n",
        "    self.bn = nn.BatchNorm2d(out_ch)\n",
        "    self.LR = nn.LeakyReLU(0.1)\n",
        "\n",
        "  def forward(self,x):\n",
        "    return self.LR(self.bn(self.conv(x)))\n",
        "  \n",
        "class Yolov1(nn.Module):\n",
        "  def __init__(self,in_ch1=3,S=[7,2,20]):\n",
        "    super(Yolov1,self).__init__()\n",
        "    self.S = S\n",
        "    self.arc = A_C\n",
        "    self.S = S[0]\n",
        "    self.B = S[1]\n",
        "    self.C = S[2]\n",
        "    self.fcs = self._CF(self.S,self.B,self.C)\n",
        "    self.in_ch1 = in_ch1\n",
        "    self.DN = self._CCL(self.arc,self.in_ch1)\n",
        "\n",
        "  def _CCL(self, arc, in_ch1):\n",
        "    layers=[]\n",
        "    c = self.in_ch1\n",
        "    for i in self.arc:\n",
        "      if i==\"M\":\n",
        "        layers.append(nn.MaxPool2d(2,2))\n",
        "      else:\n",
        "        if type(i) == list:\n",
        "          in_1 = i[0]\n",
        "          in_2 = i[1]\n",
        "          for j in range(i[2]):\n",
        "            layers += [ConvBlock(c,in_1[1],in_1[0],in_1[2],in_1[3])]\n",
        "            layers.append(ConvBlock(in_1[1],in_2[1],in_2[0],in_2[2],in_2[3]))\n",
        "            c = in_2[1]\n",
        "        else:\n",
        "          layers += [ConvBlock(c,i[1],i[0],i[2],i[3])]\n",
        "          c = i[1]\n",
        "    return nn.Sequential(*layers)\n",
        "  \n",
        "  def _CF(self,S,B,C):\n",
        "    S, B, C = self.S, self.B, self.C\n",
        "    return nn.Sequential(\n",
        "        nn.Flatten(),\n",
        "        nn.Linear(1024*S*S,4096),\n",
        "        nn.LeakyReLU(0.1),\n",
        "        nn.Linear(4096,S*S*(B*5+C))\n",
        "    )\n",
        "\n",
        "  def forward(self,x):\n",
        "    x = self.DN(x)\n",
        "    return self.fcs(torch.flatten(x,start_dim=1))\n",
        "\n",
        "model = Yolov1().to(device)\n",
        "summary(model,(3,448,448),device = device.type)"
      ],
      "execution_count": 73,
      "outputs": [
        {
          "output_type": "stream",
          "name": "stdout",
          "text": [
            "----------------------------------------------------------------\n",
            "        Layer (type)               Output Shape         Param #\n",
            "================================================================\n",
            "            Conv2d-1         [-1, 64, 224, 224]           9,408\n",
            "       BatchNorm2d-2         [-1, 64, 224, 224]             128\n",
            "         LeakyReLU-3         [-1, 64, 224, 224]               0\n",
            "         ConvBlock-4         [-1, 64, 224, 224]               0\n",
            "         MaxPool2d-5         [-1, 64, 112, 112]               0\n",
            "            Conv2d-6        [-1, 192, 112, 112]         110,592\n",
            "       BatchNorm2d-7        [-1, 192, 112, 112]             384\n",
            "         LeakyReLU-8        [-1, 192, 112, 112]               0\n",
            "         ConvBlock-9        [-1, 192, 112, 112]               0\n",
            "        MaxPool2d-10          [-1, 192, 56, 56]               0\n",
            "           Conv2d-11          [-1, 128, 56, 56]          24,576\n",
            "      BatchNorm2d-12          [-1, 128, 56, 56]             256\n",
            "        LeakyReLU-13          [-1, 128, 56, 56]               0\n",
            "        ConvBlock-14          [-1, 128, 56, 56]               0\n",
            "           Conv2d-15          [-1, 256, 56, 56]         294,912\n",
            "      BatchNorm2d-16          [-1, 256, 56, 56]             512\n",
            "        LeakyReLU-17          [-1, 256, 56, 56]               0\n",
            "        ConvBlock-18          [-1, 256, 56, 56]               0\n",
            "           Conv2d-19          [-1, 256, 56, 56]          65,536\n",
            "      BatchNorm2d-20          [-1, 256, 56, 56]             512\n",
            "        LeakyReLU-21          [-1, 256, 56, 56]               0\n",
            "        ConvBlock-22          [-1, 256, 56, 56]               0\n",
            "           Conv2d-23          [-1, 512, 56, 56]       1,179,648\n",
            "      BatchNorm2d-24          [-1, 512, 56, 56]           1,024\n",
            "        LeakyReLU-25          [-1, 512, 56, 56]               0\n",
            "        ConvBlock-26          [-1, 512, 56, 56]               0\n",
            "        MaxPool2d-27          [-1, 512, 28, 28]               0\n",
            "           Conv2d-28          [-1, 256, 28, 28]         131,072\n",
            "      BatchNorm2d-29          [-1, 256, 28, 28]             512\n",
            "        LeakyReLU-30          [-1, 256, 28, 28]               0\n",
            "        ConvBlock-31          [-1, 256, 28, 28]               0\n",
            "           Conv2d-32          [-1, 512, 28, 28]       1,179,648\n",
            "      BatchNorm2d-33          [-1, 512, 28, 28]           1,024\n",
            "        LeakyReLU-34          [-1, 512, 28, 28]               0\n",
            "        ConvBlock-35          [-1, 512, 28, 28]               0\n",
            "           Conv2d-36          [-1, 256, 28, 28]         131,072\n",
            "      BatchNorm2d-37          [-1, 256, 28, 28]             512\n",
            "        LeakyReLU-38          [-1, 256, 28, 28]               0\n",
            "        ConvBlock-39          [-1, 256, 28, 28]               0\n",
            "           Conv2d-40          [-1, 512, 28, 28]       1,179,648\n",
            "      BatchNorm2d-41          [-1, 512, 28, 28]           1,024\n",
            "        LeakyReLU-42          [-1, 512, 28, 28]               0\n",
            "        ConvBlock-43          [-1, 512, 28, 28]               0\n",
            "           Conv2d-44          [-1, 256, 28, 28]         131,072\n",
            "      BatchNorm2d-45          [-1, 256, 28, 28]             512\n",
            "        LeakyReLU-46          [-1, 256, 28, 28]               0\n",
            "        ConvBlock-47          [-1, 256, 28, 28]               0\n",
            "           Conv2d-48          [-1, 512, 28, 28]       1,179,648\n",
            "      BatchNorm2d-49          [-1, 512, 28, 28]           1,024\n",
            "        LeakyReLU-50          [-1, 512, 28, 28]               0\n",
            "        ConvBlock-51          [-1, 512, 28, 28]               0\n",
            "           Conv2d-52          [-1, 256, 28, 28]         131,072\n",
            "      BatchNorm2d-53          [-1, 256, 28, 28]             512\n",
            "        LeakyReLU-54          [-1, 256, 28, 28]               0\n",
            "        ConvBlock-55          [-1, 256, 28, 28]               0\n",
            "           Conv2d-56          [-1, 512, 28, 28]       1,179,648\n",
            "      BatchNorm2d-57          [-1, 512, 28, 28]           1,024\n",
            "        LeakyReLU-58          [-1, 512, 28, 28]               0\n",
            "        ConvBlock-59          [-1, 512, 28, 28]               0\n",
            "           Conv2d-60          [-1, 512, 28, 28]         262,144\n",
            "      BatchNorm2d-61          [-1, 512, 28, 28]           1,024\n",
            "        LeakyReLU-62          [-1, 512, 28, 28]               0\n",
            "        ConvBlock-63          [-1, 512, 28, 28]               0\n",
            "           Conv2d-64         [-1, 1024, 28, 28]       4,718,592\n",
            "      BatchNorm2d-65         [-1, 1024, 28, 28]           2,048\n",
            "        LeakyReLU-66         [-1, 1024, 28, 28]               0\n",
            "        ConvBlock-67         [-1, 1024, 28, 28]               0\n",
            "        MaxPool2d-68         [-1, 1024, 14, 14]               0\n",
            "           Conv2d-69          [-1, 512, 14, 14]         524,288\n",
            "      BatchNorm2d-70          [-1, 512, 14, 14]           1,024\n",
            "        LeakyReLU-71          [-1, 512, 14, 14]               0\n",
            "        ConvBlock-72          [-1, 512, 14, 14]               0\n",
            "           Conv2d-73         [-1, 1024, 14, 14]       4,718,592\n",
            "      BatchNorm2d-74         [-1, 1024, 14, 14]           2,048\n",
            "        LeakyReLU-75         [-1, 1024, 14, 14]               0\n",
            "        ConvBlock-76         [-1, 1024, 14, 14]               0\n",
            "           Conv2d-77          [-1, 512, 14, 14]         524,288\n",
            "      BatchNorm2d-78          [-1, 512, 14, 14]           1,024\n",
            "        LeakyReLU-79          [-1, 512, 14, 14]               0\n",
            "        ConvBlock-80          [-1, 512, 14, 14]               0\n",
            "           Conv2d-81         [-1, 1024, 14, 14]       4,718,592\n",
            "      BatchNorm2d-82         [-1, 1024, 14, 14]           2,048\n",
            "        LeakyReLU-83         [-1, 1024, 14, 14]               0\n",
            "        ConvBlock-84         [-1, 1024, 14, 14]               0\n",
            "           Conv2d-85         [-1, 1024, 14, 14]       9,437,184\n",
            "      BatchNorm2d-86         [-1, 1024, 14, 14]           2,048\n",
            "        LeakyReLU-87         [-1, 1024, 14, 14]               0\n",
            "        ConvBlock-88         [-1, 1024, 14, 14]               0\n",
            "           Conv2d-89           [-1, 1024, 7, 7]       9,437,184\n",
            "      BatchNorm2d-90           [-1, 1024, 7, 7]           2,048\n",
            "        LeakyReLU-91           [-1, 1024, 7, 7]               0\n",
            "        ConvBlock-92           [-1, 1024, 7, 7]               0\n",
            "           Conv2d-93           [-1, 1024, 7, 7]       9,437,184\n",
            "      BatchNorm2d-94           [-1, 1024, 7, 7]           2,048\n",
            "        LeakyReLU-95           [-1, 1024, 7, 7]               0\n",
            "        ConvBlock-96           [-1, 1024, 7, 7]               0\n",
            "           Conv2d-97           [-1, 1024, 7, 7]       9,437,184\n",
            "      BatchNorm2d-98           [-1, 1024, 7, 7]           2,048\n",
            "        LeakyReLU-99           [-1, 1024, 7, 7]               0\n",
            "       ConvBlock-100           [-1, 1024, 7, 7]               0\n",
            "         Flatten-101                [-1, 50176]               0\n",
            "          Linear-102                 [-1, 4096]     205,524,992\n",
            "       LeakyReLU-103                 [-1, 4096]               0\n",
            "          Linear-104                 [-1, 1470]       6,022,590\n",
            "================================================================\n",
            "Total params: 271,716,734\n",
            "Trainable params: 271,716,734\n",
            "Non-trainable params: 0\n",
            "----------------------------------------------------------------\n",
            "Input size (MB): 2.30\n",
            "Forward/backward pass size (MB): 436.86\n",
            "Params size (MB): 1036.52\n",
            "Estimated Total Size (MB): 1475.68\n",
            "----------------------------------------------------------------\n"
          ]
        }
      ]
    },
    {
      "cell_type": "code",
      "metadata": {
        "id": "JHgvCaLGFnh4"
      },
      "source": [
        ""
      ],
      "execution_count": null,
      "outputs": []
    }
  ]
}